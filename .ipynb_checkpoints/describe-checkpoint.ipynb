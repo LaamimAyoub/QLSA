{
 "cells": [
  {
   "cell_type": "code",
   "execution_count": 1,
   "id": "242453b8",
   "metadata": {},
   "outputs": [],
   "source": [
    "import pandas as pd"
   ]
  },
  {
   "cell_type": "code",
   "execution_count": 4,
   "id": "2b160fda",
   "metadata": {},
   "outputs": [],
   "source": [
    "df = pd.read_csv(\"C:/Users/NOUHAILA/QLSAGIT/QLSA/optimals.csv\")"
   ]
  },
  {
   "cell_type": "code",
   "execution_count": 3,
   "id": "11a40749",
   "metadata": {},
   "outputs": [],
   "source": [
    "df.groupby([\"Problem\",\"Algo\"]).describe().to_csv(\"result.csv\")"
   ]
  },
  {
   "cell_type": "code",
   "execution_count": 8,
   "id": "13e9e967",
   "metadata": {},
   "outputs": [
    {
     "data": {
      "text/html": [
       "<div>\n",
       "<style scoped>\n",
       "    .dataframe tbody tr th:only-of-type {\n",
       "        vertical-align: middle;\n",
       "    }\n",
       "\n",
       "    .dataframe tbody tr th {\n",
       "        vertical-align: top;\n",
       "    }\n",
       "\n",
       "    .dataframe thead th {\n",
       "        text-align: right;\n",
       "    }\n",
       "</style>\n",
       "<table border=\"1\" class=\"dataframe\">\n",
       "  <thead>\n",
       "    <tr style=\"text-align: right;\">\n",
       "      <th></th>\n",
       "      <th>Problem</th>\n",
       "      <th>run</th>\n",
       "      <th>Algo</th>\n",
       "      <th>Optimal</th>\n",
       "    </tr>\n",
       "  </thead>\n",
       "  <tbody>\n",
       "    <tr>\n",
       "      <th>0</th>\n",
       "      <td>gr17</td>\n",
       "      <td>3</td>\n",
       "      <td>QLSA epsilon_greedy</td>\n",
       "      <td>2167.0</td>\n",
       "    </tr>\n",
       "    <tr>\n",
       "      <th>1</th>\n",
       "      <td>gr17</td>\n",
       "      <td>7</td>\n",
       "      <td>QLSA epsilon_greedy</td>\n",
       "      <td>2090.0</td>\n",
       "    </tr>\n",
       "    <tr>\n",
       "      <th>2</th>\n",
       "      <td>gr17</td>\n",
       "      <td>1</td>\n",
       "      <td>QLSA epsilon_greedy</td>\n",
       "      <td>2147.0</td>\n",
       "    </tr>\n",
       "    <tr>\n",
       "      <th>3</th>\n",
       "      <td>gr17</td>\n",
       "      <td>8</td>\n",
       "      <td>QLSA epsilon_greedy</td>\n",
       "      <td>2103.0</td>\n",
       "    </tr>\n",
       "    <tr>\n",
       "      <th>4</th>\n",
       "      <td>gr17</td>\n",
       "      <td>4</td>\n",
       "      <td>QLSA epsilon_greedy</td>\n",
       "      <td>2090.0</td>\n",
       "    </tr>\n",
       "    <tr>\n",
       "      <th>...</th>\n",
       "      <td>...</td>\n",
       "      <td>...</td>\n",
       "      <td>...</td>\n",
       "      <td>...</td>\n",
       "    </tr>\n",
       "    <tr>\n",
       "      <th>1795</th>\n",
       "      <td>swiss42</td>\n",
       "      <td>30</td>\n",
       "      <td>QLSA epsilon_greedy</td>\n",
       "      <td>1326.0</td>\n",
       "    </tr>\n",
       "    <tr>\n",
       "      <th>1796</th>\n",
       "      <td>ulysses16</td>\n",
       "      <td>30</td>\n",
       "      <td>QLSA epsilon_greedy</td>\n",
       "      <td>6859.0</td>\n",
       "    </tr>\n",
       "    <tr>\n",
       "      <th>1797</th>\n",
       "      <td>ulysses22</td>\n",
       "      <td>30</td>\n",
       "      <td>QLSA epsilon_greedy</td>\n",
       "      <td>7496.0</td>\n",
       "    </tr>\n",
       "    <tr>\n",
       "      <th>1798</th>\n",
       "      <td>berlin52</td>\n",
       "      <td>30</td>\n",
       "      <td>SA</td>\n",
       "      <td>8431.0</td>\n",
       "    </tr>\n",
       "    <tr>\n",
       "      <th>1799</th>\n",
       "      <td>burma14</td>\n",
       "      <td>30</td>\n",
       "      <td>SA</td>\n",
       "      <td>3754.0</td>\n",
       "    </tr>\n",
       "  </tbody>\n",
       "</table>\n",
       "<p>1800 rows × 4 columns</p>\n",
       "</div>"
      ],
      "text/plain": [
       "        Problem  run                 Algo  Optimal\n",
       "0          gr17    3  QLSA epsilon_greedy   2167.0\n",
       "1          gr17    7  QLSA epsilon_greedy   2090.0\n",
       "2          gr17    1  QLSA epsilon_greedy   2147.0\n",
       "3          gr17    8  QLSA epsilon_greedy   2103.0\n",
       "4          gr17    4  QLSA epsilon_greedy   2090.0\n",
       "...         ...  ...                  ...      ...\n",
       "1795    swiss42   30  QLSA epsilon_greedy   1326.0\n",
       "1796  ulysses16   30  QLSA epsilon_greedy   6859.0\n",
       "1797  ulysses22   30  QLSA epsilon_greedy   7496.0\n",
       "1798   berlin52   30                   SA   8431.0\n",
       "1799    burma14   30                   SA   3754.0\n",
       "\n",
       "[1800 rows x 4 columns]"
      ]
     },
     "execution_count": 8,
     "metadata": {},
     "output_type": "execute_result"
    }
   ],
   "source": [
    "df"
   ]
  },
  {
   "cell_type": "code",
   "execution_count": null,
   "id": "0b2143e2",
   "metadata": {},
   "outputs": [],
   "source": []
  }
 ],
 "metadata": {
  "kernelspec": {
   "display_name": "Python 3 (ipykernel)",
   "language": "python",
   "name": "python3"
  },
  "language_info": {
   "codemirror_mode": {
    "name": "ipython",
    "version": 3
   },
   "file_extension": ".py",
   "mimetype": "text/x-python",
   "name": "python",
   "nbconvert_exporter": "python",
   "pygments_lexer": "ipython3",
   "version": "3.9.18"
  }
 },
 "nbformat": 4,
 "nbformat_minor": 5
}
